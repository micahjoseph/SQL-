{
  "nbformat": 4,
  "nbformat_minor": 0,
  "metadata": {
    "colab": {
      "name": "SQL Fundamentals  II - Assignment.ipynb",
      "provenance": [],
      "collapsed_sections": [],
      "include_colab_link": true
    },
    "kernelspec": {
      "name": "python3",
      "display_name": "Python 3"
    }
  },
  "cells": [
    {
      "cell_type": "markdown",
      "metadata": {
        "id": "view-in-github",
        "colab_type": "text"
      },
      "source": [
        "<a href=\"https://colab.research.google.com/github/micahjoseph/SQL-/blob/main/SQL_Fundamentals_II_Assignment.ipynb\" target=\"_parent\"><img src=\"https://colab.research.google.com/assets/colab-badge.svg\" alt=\"Open In Colab\"/></a>"
      ]
    },
    {
      "cell_type": "markdown",
      "metadata": {
        "id": "LSx52toYvkE0"
      },
      "source": [
        "# <b> Question 1 : Return the customer IDs of customers who have spent at least $110 with the staff member who has an ID of 2.\n"
      ]
    },
    {
      "cell_type": "markdown",
      "source": [
        "#SOLUTION"
      ],
      "metadata": {
        "id": "64Hs4ioRV6AM"
      }
    },
    {
      "cell_type": "code",
      "source": [
        "SELECT customer_id, SUM(amount)\n",
        "FROM payment\n",
        "WHERE staff_id=2\n",
        "GROUP BY customer_id\n",
        "HAVING SUM(amount) >110;"
      ],
      "metadata": {
        "id": "0ELiNJauV4AR"
      },
      "execution_count": null,
      "outputs": []
    },
    {
      "cell_type": "markdown",
      "metadata": {
        "id": "grhpLeadvkHP"
      },
      "source": [
        "# <b> Question 2 :  How many films begin with the letter J?\n"
      ]
    },
    {
      "cell_type": "markdown",
      "source": [
        "#SOLUTION"
      ],
      "metadata": {
        "id": "F0FJmhhAV8pu"
      }
    },
    {
      "cell_type": "code",
      "source": [
        "SELECT title\n",
        "FROM film\n",
        "WHERE title LIKE 'J%';"
      ],
      "metadata": {
        "id": "iBzNFhEPV-S6"
      },
      "execution_count": null,
      "outputs": []
    },
    {
      "cell_type": "markdown",
      "metadata": {
        "id": "7ADgnW_VvkJg"
      },
      "source": [
        "# <b> Question 3 : What customer has the highest customer ID number whose name starts with an 'E' and has an address ID lower than 500?"
      ]
    },
    {
      "cell_type": "code",
      "source": [
        "SELECT customer_id, first_name, last_name, address_id\n",
        "FROM customer\n",
        "WHERE address_id <500 AND first_name LIKE ‘E%’\n",
        "ORDER BY customer_id DESC;"
      ],
      "metadata": {
        "id": "iVPrsQqIVw_x"
      },
      "execution_count": null,
      "outputs": []
    }
  ]
}